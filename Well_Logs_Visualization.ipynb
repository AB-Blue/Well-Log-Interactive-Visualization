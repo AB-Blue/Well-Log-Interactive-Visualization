{
 "cells": [
  {
   "cell_type": "markdown",
   "id": "dcb5441a-e9ac-4e48-b524-e83f7861beb0",
   "metadata": {},
   "source": [
    "# Well Log Visualization\n",
    "## Plotting and interactive cross-ploting well curves in LAS files\n",
    "### Author: Amir Abbas Babasafari (AB) \n",
    "### Date: March 2024\n",
    "### Email: a.babasafari@yahoo.com\n",
    "### IDE: Jupyter Notebook\n",
    "### Python version: 3.9"
   ]
  },
  {
   "cell_type": "markdown",
   "id": "9b6c03c0-c3d9-46cf-935c-6eb612c7be9e",
   "metadata": {},
   "source": [
    "#####"
   ]
  },
  {
   "cell_type": "markdown",
   "id": "6d16a9c6-bd60-49c3-b47f-c065eb26be30",
   "metadata": {},
   "source": [
    "### Import Libraries\n",
    "#### Please run the cell below"
   ]
  },
  {
   "cell_type": "code",
   "execution_count": 2,
   "id": "f5426e4c-974e-4b29-b19e-a88ee463120c",
   "metadata": {},
   "outputs": [],
   "source": [
    "import os\n",
    "import sys\n",
    "import numpy as np\n",
    "import pandas as pd \n",
    "import lasio \n",
    "import copy\n",
    "from matplotlib import pyplot as plt\n",
    "from tkinter import *\n",
    "from tkinter import filedialog\n",
    "import ipywidgets as widgets\n",
    "from ipywidgets import interact"
   ]
  },
  {
   "cell_type": "markdown",
   "id": "ff826e2f-66f0-48ff-bfe6-fb9eef8dc4c2",
   "metadata": {},
   "source": [
    "### Load single/multiple LAS file(s)"
   ]
  },
  {
   "cell_type": "markdown",
   "id": "0ee781c4-79a8-4c81-a1ee-7e2b04ccd017",
   "metadata": {},
   "source": [
    "#### Please run the cell below, click on 'open a file' button on pop-up window to select your single/multiple well logs in LAS format, followed by clicking on the 'close the window' button."
   ]
  },
  {
   "cell_type": "code",
   "execution_count": null,
   "id": "ab643a0c-6795-4073-bfa5-e13bbc4c5a8b",
   "metadata": {},
   "outputs": [],
   "source": [
    "def load_las_files():\n",
    "    '''\n",
    "    Function to load a bunch of las files\n",
    "    \n",
    "    Return file path of loaded las files\n",
    "    '''\n",
    "    \n",
    "    global filespath\n",
    "    \n",
    "    # Open file name\n",
    "    file = filedialog.askopenfilenames(initialdir = os.getcwd(),\n",
    "    title = \"Please select las files\",\n",
    "    filetypes = [('las files','*.las'),('All files','*.*')])\n",
    "    filespath = file\n",
    "    print(\"File_path: {0}\".format(filespath))\n",
    "    \n",
    "# Create root window\n",
    "root = Tk()\n",
    "root.geometry('300x200')  \n",
    "root.title('LAS File')\n",
    "\n",
    "# Open button to click in a GUI toolkit\n",
    "open_button1 = Button(root, text = \"Open Files\", command = load_las_files)\n",
    "open_button2 = Button(root, text = \"Close the Window\", command = root.destroy)\n",
    "open_button1.pack()\n",
    "open_button2.pack()\n",
    "\n",
    "# Run the application\n",
    "root.mainloop()"
   ]
  },
  {
   "cell_type": "markdown",
   "id": "a83003a9-9469-4a21-b5ab-620a41f37f4c",
   "metadata": {},
   "source": [
    "### Read well logs and create a dataframe for all log types\n",
    "#### Please run the cell below"
   ]
  },
  {
   "cell_type": "code",
   "execution_count": null,
   "id": "a45e3b6e-93b3-4517-80c2-4cd2ddea710e",
   "metadata": {},
   "outputs": [],
   "source": [
    "def read_las_files(filespath):\n",
    "\n",
    "    \"\"\"     \n",
    "    Function to read well logs from LAS files and create a dataframe for all log types\n",
    "    \n",
    "    Parameter:\n",
    "    ----------\n",
    "    filespath (str): file path of loaded LAS files\n",
    "    \n",
    "    Returns:\n",
    "    --------\n",
    "    Merged_Dataset (pandas.core.frame.DataFrame): merged dataframe includes all well logs for all wells\n",
    "\n",
    "    Author: Amir Abbas Babasafari (AB)\n",
    "    \"\"\"\n",
    "\n",
    "    log_name_all_wells = []\n",
    "    for file in filespath:\n",
    "        well_curves = lasio.read(file)\n",
    "        log_name = well_curves.keys()\n",
    "        log_name_all_wells.append(log_name)\n",
    "    \n",
    "    wells_logs_type = np.unique([a for b in log_name_all_wells for a in b])\n",
    "    \n",
    "    curves_all_wells = []\n",
    "    for file in filespath:\n",
    "        well_curves = lasio.read(file)\n",
    "        well_name = os.path.splitext(os.path.basename(file))[0] \n",
    "        log_name = well_curves.keys()\n",
    "\n",
    "        try:\n",
    "            try:\n",
    "                depth = well_curves['DEPTH']\n",
    "            except:\n",
    "                depth = well_curves['DEPT']\n",
    "        except:\n",
    "            print('Depth column is neither specified in DEPTH nor DEPT, so please check it in your las files and modify the name in the function.')\n",
    "            \n",
    "        curves_per_well = []\n",
    "        for log in wells_logs_type:\n",
    "            if log in log_name:\n",
    "                curve_per_well = well_curves[log]\n",
    "            else:\n",
    "                curve_per_well =  np.repeat(np.nan, len(depth))\n",
    "            curves_per_well.append(curve_per_well)\n",
    "        curves_single_well = np.column_stack(curves_per_well)\n",
    "        curves_single_well_pd = pd.DataFrame(curves_single_well, columns=wells_logs_type)\n",
    "        curves_single_well_pd['well_name'] = np.repeat(well_name, len(depth))\n",
    "        curves_all_wells.append(curves_single_well_pd)\n",
    "    Merged_Dataset = pd.concat(curves_all_wells, ignore_index=True)\n",
    "    return wells_logs_type, Merged_Dataset\n",
    "\n",
    "# Implement the function above\n",
    "wells_log_name, Merged_Dataset_pd = read_las_files(filespath)\n",
    "Merged_Dataset_pd"
   ]
  },
  {
   "cell_type": "markdown",
   "id": "30ce63ae-4dfc-4178-8978-21f900675bf1",
   "metadata": {},
   "source": [
    "### Plot all well logs for all wells\n",
    "#### Please run the cell below"
   ]
  },
  {
   "cell_type": "code",
   "execution_count": null,
   "id": "454e4383-4bc9-4201-bf5a-0ff6836477c0",
   "metadata": {},
   "outputs": [],
   "source": [
    "def logs_plot_per_well(logs):\n",
    "    '''\n",
    "    Function to plot well logs\n",
    "    '''\n",
    "\n",
    "    well_name = Merged_Dataset_pd[\"well_name\"].unique().tolist()\n",
    "    log = copy.deepcopy(logs)\n",
    "    try:\n",
    "        log.drop(['DEPTH','well_name'], axis='columns', inplace=True)\n",
    "    except:\n",
    "        log.drop(['DEPT','well_name'], axis='columns', inplace=True)\n",
    "    \n",
    "    fig, ax=plt.subplots(nrows=len(well_name), ncols=len(log.columns), figsize=(20,30), squeeze=False)\n",
    "    for i in range(len(log.columns)):\n",
    "        for j in range(len(well_name)):\n",
    "            figure = ax[j][i]\n",
    "            try:\n",
    "                Depth = logs[logs['well_name']==well_name[j]].DEPTH\n",
    "            except:\n",
    "                Depth = logs[logs['well_name']==well_name[j]].DEPT\n",
    "            figure.plot(log[logs['well_name']==well_name[j]].iloc[:,i].to_numpy(), Depth.to_numpy())\n",
    "            figure.set_title(f\"{well_name[j]}\")\n",
    "            figure.set_xlabel(log.columns[i])  \n",
    "            ax[j][0].set_ylabel('Depth')\n",
    "            figure.set_ylim(min(Depth), max(Depth))\n",
    "            figure.invert_yaxis()\n",
    "            figure.grid()\n",
    "            \n",
    "logs_plot_per_well(Merged_Dataset_pd)"
   ]
  },
  {
   "cell_type": "markdown",
   "id": "816b437a-75da-4300-9f1f-48ee145b4a06",
   "metadata": {},
   "source": [
    "### Cross-plot all well logs for all wells\n",
    "#### Please run the cell below"
   ]
  },
  {
   "cell_type": "code",
   "execution_count": 6,
   "id": "710309eb-216d-4fba-ad52-a3cbcbb0e646",
   "metadata": {},
   "outputs": [],
   "source": [
    "well_name = Merged_Dataset_pd[\"well_name\"].unique().tolist()\n",
    "property_list = list(Merged_Dataset_pd.columns)\n",
    "property_list.remove('well_name')\n",
    "\n",
    "def cross_plot(well, property1, property2, property3):\n",
    "\n",
    "    '''\n",
    "    Function to cross-plot well logs\n",
    "    '''\n",
    "    plt.scatter(Merged_Dataset_pd[str(property1)][Merged_Dataset_pd['well_name']==str(well)],Merged_Dataset_pd[str(property2)][Merged_Dataset_pd['well_name']==str(well)],\n",
    "                c=Merged_Dataset_pd[property3][Merged_Dataset_pd['well_name']==str(well)],cmap=plt.cm.jet)\n",
    "    plt.title(f\"{property1} vs. {property2} color_coded with {property3} at well {well}\")\n",
    "    plt.xlabel(f\"{property1}\")\n",
    "    plt.ylabel(f\"{property2}\")\n",
    "    plt.legend([str(property3)],loc='upper right')\n",
    "    plt.colorbar()\n",
    "    plt.grid()\n",
    "    plt.show()"
   ]
  },
  {
   "cell_type": "markdown",
   "id": "5ac9fe8f-71e7-48cb-b976-077d297773ea",
   "metadata": {},
   "source": [
    "### Interactive Cross-plot Visualization\n",
    "#### Please run the cell below"
   ]
  },
  {
   "cell_type": "code",
   "execution_count": null,
   "id": "821d5f52-8f5c-4698-ba84-6315c892d038",
   "metadata": {},
   "outputs": [],
   "source": [
    "@interact(property=widgets.SelectionSlider(options=property_list, description='Colour_Code'))\n",
    "def interactive_colorcoded_crossplot(property, Well_Name=well_name, X_Axis=wells_log_name, Y_Axis=wells_log_name):   \n",
    "    cross_plot(Well_Name, X_Axis, Y_Axis, property)"
   ]
  },
  {
   "cell_type": "markdown",
   "id": "42391427-2619-43f9-a497-14e3f5eb019e",
   "metadata": {},
   "source": [
    "### Thank you for your attention"
   ]
  },
  {
   "cell_type": "markdown",
   "id": "66e4cd61-f4fd-4203-a281-138bb6641e76",
   "metadata": {},
   "source": [
    "##### AB"
   ]
  }
 ],
 "metadata": {
  "kernelspec": {
   "display_name": "Python 3",
   "language": "python",
   "name": "python3"
  },
  "language_info": {
   "codemirror_mode": {
    "name": "ipython",
    "version": 3
   },
   "file_extension": ".py",
   "mimetype": "text/x-python",
   "name": "python",
   "nbconvert_exporter": "python",
   "pygments_lexer": "ipython3",
   "version": "3.9.1"
  }
 },
 "nbformat": 4,
 "nbformat_minor": 5
}
